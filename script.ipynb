{
 "cells": [
  {
   "cell_type": "code",
   "execution_count": 2,
   "metadata": {},
   "outputs": [
    {
     "name": "stdout",
     "output_type": "stream",
     "text": [
      "2079\n"
     ]
    }
   ],
   "source": [
    "import pandas as pd\n",
    "\n",
    "all_games_dataset = pd.read_csv('all_games.csv')\n",
    "\n",
    "all_games_dataset['release_date'] = pd.to_datetime(all_games_dataset['release_date'])\n",
    "all_games_dataset.rename(columns={'name': 'Title'}, inplace=True)\n",
    "\n",
    "all_games_dataset.head()\n",
    "\n",
    "unique_titles_sample = all_games_dataset['Title'].drop_duplicates().sample(n= 1400)\n",
    "games_sample = unique_titles_sample.to_frame().merge(all_games_dataset, on= 'Title')\n",
    "print(str(len(games_sample)))"
   ]
  },
  {
   "cell_type": "code",
   "execution_count": null,
   "metadata": {},
   "outputs": [],
   "source": [
    "import requests\n",
    "\n",
    "def get_wikipedia_extract(game):\n",
    "    url = 'https://en.wikipedia.org/w/api.php'\n",
    "    params = {\n",
    "        'action': 'query',\n",
    "        'format': 'json',\n",
    "        'titles': game,\n",
    "        'prop': 'extracts',\n",
    "        'exintro': True,\n",
    "        'explaintext': True,\n",
    "    }\n",
    " \n",
    "    response = requests.get(url, params=params)\n",
    "    data = response.json()\n",
    "    if int(next(iter(data['query']['pages'].keys()))) < 0:\n",
    "        return ''\n",
    "    page_extract = next(iter(data['query']['pages'].values()))['extract']\n",
    "    return page_extract"
   ]
  },
  {
   "cell_type": "code",
   "execution_count": null,
   "metadata": {},
   "outputs": [],
   "source": [
    "wikipedia_extracts = []\n",
    "\n",
    "for game in all_games_dataset['Title']:\n",
    "    wikipedia_extracts.append(get_wikipedia_extract(game))\n",
    "\n",
    "all_games_dataset['Wikipedia'] = wikipedia_extracts\n",
    "all_games_dataset.head()"
   ]
  },
  {
   "cell_type": "code",
   "execution_count": null,
   "metadata": {},
   "outputs": [],
   "source": [
    "all_games_dataset.to_csv('all_games_clean.csv')\n",
    "all_games_dataset.head()"
   ]
  }
 ],
 "metadata": {
  "kernelspec": {
   "display_name": "Python 3",
   "language": "python",
   "name": "python3"
  },
  "language_info": {
   "codemirror_mode": {
    "name": "ipython",
    "version": 3
   },
   "file_extension": ".py",
   "mimetype": "text/x-python",
   "name": "python",
   "nbconvert_exporter": "python",
   "pygments_lexer": "ipython3",
   "version": "3.8.3"
  },
  "orig_nbformat": 4
 },
 "nbformat": 4,
 "nbformat_minor": 2
}
