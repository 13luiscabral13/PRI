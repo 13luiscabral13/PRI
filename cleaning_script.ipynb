{
 "cells": [
  {
   "cell_type": "code",
   "execution_count": 3,
   "metadata": {},
   "outputs": [
    {
     "name": "stdout",
     "output_type": "stream",
     "text": [
      "2114\n"
     ]
    }
   ],
   "source": [
    "import pandas as pd\n",
    "\n",
    "all_games_dataset = pd.read_csv('all_games.csv')\n",
    "\n",
    "all_games_dataset['release_date'] = pd.to_datetime(all_games_dataset['release_date'])\n",
    "all_games_dataset.rename(columns={'name': 'Title'}, inplace=True)\n",
    "all_games_dataset['platform'] = all_games_dataset['platform'].str.strip()\n",
    "\n",
    "unique_titles_sample = all_games_dataset['Title'].drop_duplicates().sample(n=1400)\n",
    "games_sample = unique_titles_sample.to_frame().merge(all_games_dataset, on= 'Title')\n",
    "games_sample.to_csv('games_sample.csv')\n",
    "print(str(len(games_sample)))"
   ]
  }
 ],
 "metadata": {
  "kernelspec": {
   "display_name": "Python 3",
   "language": "python",
   "name": "python3"
  },
  "language_info": {
   "codemirror_mode": {
    "name": "ipython",
    "version": 3
   },
   "file_extension": ".py",
   "mimetype": "text/x-python",
   "name": "python",
   "nbconvert_exporter": "python",
   "pygments_lexer": "ipython3",
   "version": "3.8.3"
  },
  "orig_nbformat": 4
 },
 "nbformat": 4,
 "nbformat_minor": 2
}
