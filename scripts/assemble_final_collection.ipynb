{
 "cells": [
  {
   "cell_type": "code",
   "execution_count": null,
   "metadata": {},
   "outputs": [],
   "source": [
    "import pandas as pd\n",
    "\n",
    "games = pd.read_csv('../datasets/potential_final.csv')\n",
    "games"
   ]
  },
  {
   "cell_type": "code",
   "execution_count": null,
   "metadata": {},
   "outputs": [],
   "source": [
    "\n",
    "games = pd.read_csv('../datasets/potential_final.csv')\n",
    "\n",
    "games.drop(['Unnamed: 0'], axis=1, inplace=True)\n",
    "games = games.fillna('')\n",
    "games['release_date'] = pd.to_datetime(games['release_date']).dt.strftime(\"%Y-%m-%dT%H:%M:%SZ\")\n",
    "\n",
    "games.head()"
   ]
  },
  {
   "cell_type": "code",
   "execution_count": null,
   "metadata": {},
   "outputs": [],
   "source": [
    "from ast import literal_eval\n",
    "\n",
    "# In some entries the user review is marked as \"tbd\", this isn't compatible with Solr's FloatPointField type so it should be stored as \"NaN\" instead\n",
    "def get_user_review(user_review):\n",
    "    if user_review == \"tbd\":\n",
    "        return \"NaN\"\n",
    "    return user_review\n",
    "\n",
    "def get_platform_reviews_json(game):\n",
    "    platforms = list(games[games.name == game][\"platform\"])\n",
    "    json = []\n",
    "\n",
    "    for platform in platforms:\n",
    "        reviews = (games[(games.name == game) & (games.platform == platform)]).iloc[0].MetacriticReviews\n",
    "        for review in eval(reviews):\n",
    "            json.append({\n",
    "                \"platform\": (games[(games.name == game) & (games.platform == platform)]).iloc[0].platform,\n",
    "                \"release_date\": (games[(games.name == game) & (games.platform == platform)]).iloc[0].release_date,\n",
    "                \"meta_score\": str((games[(games.name == game) & (games.platform == platform)]).iloc[0].meta_score),\n",
    "                \"user_review\": get_user_review((games[(games.name == game) & (games.platform == platform)]).iloc[0].user_review),\n",
    "                \"reviewer\": review[0],\n",
    "                \"review\": review[1]\n",
    "            })\n",
    "    return json\n",
    "\n",
    "def get_game_json(game):\n",
    "    json = {\n",
    "        \"name\": game,\n",
    "        \"summary\": (games[games.name == game]).iloc[0].summary,\n",
    "        \"wikipedia\": (games[games.name == game]).iloc[0].Wikipedia,\n",
    "        \"genre\": (games[games.name == game]).iloc[0].Genre,\n",
    "        \"playing_modes\": literal_eval((games[games.name == game]).iloc[0].Modes) if (games[games.name == game]).iloc[0].Modes else [],\n",
    "        \"content_type\": \"parentDocument\",\n",
    "        \"reviews\": get_platform_reviews_json(game)\n",
    "    }\n",
    "    return json"
   ]
  },
  {
   "cell_type": "code",
   "execution_count": null,
   "metadata": {},
   "outputs": [],
   "source": [
    "from json import dumps\n",
    "\n",
    "json = []\n",
    "counter = 0\n",
    "for game in games['name'].unique():\n",
    "    print(counter)\n",
    "    counter = counter +1\n",
    "    json.append(get_game_json(game))\n",
    "\n",
    "json = dumps(json, indent=4)\n",
    "with open(\"../search-engine/games_collection.json\", \"w\") as outfile:\n",
    "    outfile.write(json)"
   ]
  }
 ],
 "metadata": {
  "kernelspec": {
   "display_name": "base",
   "language": "python",
   "name": "python3"
  },
  "language_info": {
   "codemirror_mode": {
    "name": "ipython",
    "version": 3
   },
   "file_extension": ".py",
   "mimetype": "text/x-python",
   "name": "python",
   "nbconvert_exporter": "python",
   "pygments_lexer": "ipython3",
   "version": "3.10.9"
  }
 },
 "nbformat": 4,
 "nbformat_minor": 2
}
