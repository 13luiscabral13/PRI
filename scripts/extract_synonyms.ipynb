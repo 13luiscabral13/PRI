{
 "cells": [
  {
   "cell_type": "code",
   "execution_count": 39,
   "metadata": {},
   "outputs": [
    {
     "data": {
      "text/html": [
       "<div>\n",
       "<style scoped>\n",
       "    .dataframe tbody tr th:only-of-type {\n",
       "        vertical-align: middle;\n",
       "    }\n",
       "\n",
       "    .dataframe tbody tr th {\n",
       "        vertical-align: top;\n",
       "    }\n",
       "\n",
       "    .dataframe thead th {\n",
       "        text-align: right;\n",
       "    }\n",
       "</style>\n",
       "<table border=\"1\" class=\"dataframe\">\n",
       "  <thead>\n",
       "    <tr style=\"text-align: right;\">\n",
       "      <th></th>\n",
       "      <th>lemma</th>\n",
       "      <th>synonyms</th>\n",
       "    </tr>\n",
       "  </thead>\n",
       "  <tbody>\n",
       "    <tr>\n",
       "      <th>282</th>\n",
       "      <td>abandoned</td>\n",
       "      <td>abandon|abandon;give up|vacate;empty;abandon|a...</td>\n",
       "    </tr>\n",
       "    <tr>\n",
       "      <th>283</th>\n",
       "      <td>abandoned</td>\n",
       "      <td>derelict;deserted</td>\n",
       "    </tr>\n",
       "    <tr>\n",
       "      <th>284</th>\n",
       "      <td>abashed</td>\n",
       "      <td>embarrass;abash</td>\n",
       "    </tr>\n",
       "    <tr>\n",
       "      <th>285</th>\n",
       "      <td>abashed</td>\n",
       "      <td>chagrined;embarrassed</td>\n",
       "    </tr>\n",
       "    <tr>\n",
       "      <th>286</th>\n",
       "      <td>abasic</td>\n",
       "      <td>abatic</td>\n",
       "    </tr>\n",
       "  </tbody>\n",
       "</table>\n",
       "</div>"
      ],
      "text/plain": [
       "         lemma                                           synonyms\n",
       "282  abandoned  abandon|abandon;give up|vacate;empty;abandon|a...\n",
       "283  abandoned                                  derelict;deserted\n",
       "284    abashed                                    embarrass;abash\n",
       "285    abashed                              chagrined;embarrassed\n",
       "286     abasic                                             abatic"
      ]
     },
     "execution_count": 39,
     "metadata": {},
     "output_type": "execute_result"
    }
   ],
   "source": [
    "import pandas as pd\n",
    "\n",
    "synonyms = pd.read_csv('../datasets/synonyms.csv')\n",
    "\n",
    "synonyms = synonyms.drop('part_of_speech', axis=1)\n",
    "synonyms = synonyms.dropna(subset=['lemma'])\n",
    "synonyms = synonyms[synonyms['lemma'].str.isalpha()]\n",
    "\n",
    "synonyms.head()"
   ]
  },
  {
   "cell_type": "code",
   "execution_count": 41,
   "metadata": {},
   "outputs": [
    {
     "name": "stdout",
     "output_type": "stream",
     "text": [
      "[['vacate', 'abandoned', 'give up', 'empty', 'desert', 'abandon', 'forsake', 'desolate'], ['derelict', 'abandoned', 'deserted'], ['abashed', 'embarrass', 'abash'], ['chagrined', 'abashed', 'embarrassed'], ['abasic', 'abatic'], ['abasic', 'abatic'], ['dorsal', 'abaxial'], ['abridge', 'foreshorten', 'contract', 'cut', 'shorten', 'abbreviated', 'abbreviate', 'reduce'], ['brief', 'abbreviated', 'truncated', 'shortened'], ['ab', 'abdominal', 'abdominal muscle']]\n"
     ]
    }
   ],
   "source": [
    "import re\n",
    "\n",
    "synonyms_list = []\n",
    "for index, word in synonyms.iterrows():\n",
    "    if type(word['synonyms']) == str:\n",
    "        word_synonyms = [word['lemma']]\n",
    "        word_synonyms += re.split('\\||;', word['synonyms'])\n",
    "        synonyms_list.append(list(set(word_synonyms)))\n",
    "\n",
    "print(synonyms_list[:10]) "
   ]
  },
  {
   "cell_type": "code",
   "execution_count": 43,
   "metadata": {},
   "outputs": [],
   "source": [
    "myfile = open(\"../search-engine/synonyms.txt\", \"w\")\n",
    "\n",
    "for synonyms in synonyms_list:\n",
    "    line = ', '.join(synonyms)\n",
    "    myfile.write(line)\n",
    "    myfile.write(\"\\n\")"
   ]
  }
 ],
 "metadata": {
  "kernelspec": {
   "display_name": "base",
   "language": "python",
   "name": "python3"
  },
  "language_info": {
   "codemirror_mode": {
    "name": "ipython",
    "version": 3
   },
   "file_extension": ".py",
   "mimetype": "text/x-python",
   "name": "python",
   "nbconvert_exporter": "python",
   "pygments_lexer": "ipython3",
   "version": "3.8.3"
  }
 },
 "nbformat": 4,
 "nbformat_minor": 2
}
