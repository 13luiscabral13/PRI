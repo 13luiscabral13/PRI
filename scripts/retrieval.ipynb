{
 "cells": [
  {
   "cell_type": "code",
   "execution_count": 3,
   "metadata": {},
   "outputs": [],
   "source": [
    "import matplotlib.pyplot as plt\n",
    "from sklearn.metrics import PrecisionRecallDisplay\n",
    "import numpy as np\n",
    "import json\n",
    "import requests\n",
    "import pandas as pd"
   ]
  },
  {
   "cell_type": "code",
   "execution_count": 11,
   "metadata": {},
   "outputs": [],
   "source": [
    "QUERY_NUMBER = \"q4\"\n",
    "QUERY_PATH = '../queries/' + QUERY_NUMBER + '/' + QUERY_NUMBER\n",
    "\n",
    "BASE_QUERY_URL = \"http://localhost:8983/solr/games/select?fq=%7B!child%20of%3D%22*%3A*%20-_nest_path_%3A*%22%7Dtitle%3Abasketball%20OR%20summary%3A(basketball%20OR%20best)%20OR%20wikipedia%3A(basketball%20OR%20best)%20OR%20genre%3Abasketball&indent=true&q.op=AND&q=review%3A(basketball%20OR%20best)%20OR%20platform%3A%22Playstation%204%22&rows=1000&useParams=&wt=json\"\n",
    "BOOSTED_QUERY_URL = \"http://localhost:8983/solr/games/select?bq=%7B!child%20of%3D%22*%3A*%20-_nest_path_%3A*%22%7Dtitle%3Abasketball%5E2%20OR%20summary%3A(basketball%20OR%20best)%20OR%20wikipedia%3A(basketball%20OR%20best)%20OR%20genre%3Abasketball%5E2&defType=edismax&fq=%7B!child%20of%3D%22*%3A*%20-_nest_path_%3A*%22%7Dtitle%3A*&indent=true&ps=3&q.op=AND&q=(basketball%20OR%20best)%20OR%20%0A%22Playstation%204%22&qf=review%20platform%5E5&rows=1000&useParams=&wt=json\""
   ]
  },
  {
   "cell_type": "markdown",
   "metadata": {},
   "source": [
    "#### Executa a base query e guarda os documentos obtidos no ficheiro baseRank.txt"
   ]
  },
  {
   "cell_type": "code",
   "execution_count": 12,
   "metadata": {},
   "outputs": [
    {
     "name": "stdout",
     "output_type": "stream",
     "text": [
      "                   BASE\n",
      "0              NBA 2K16\n",
      "1           NBA Live 19\n",
      "2               NBA 2K3\n",
      "3                NBA 07\n",
      "4           NBA Live 15\n",
      "5           NBA Live 16\n",
      "6   ESPN NBA Basketball\n",
      "7       NBA Playgrounds\n",
      "8           NBA Live 14\n",
      "9  inFamous: Second Son\n"
     ]
    },
    {
     "name": "stderr",
     "output_type": "stream",
     "text": [
      "C:\\Users\\luisk\\AppData\\Local\\Temp\\ipykernel_23864\\810322779.py:24: FutureWarning: In future versions `DataFrame.to_latex` is expected to utilise the base implementation of `Styler.to_latex` for formatting and rendering. The arguments signature may therefore change. It is recommended instead to use `DataFrame.style.to_latex` which also contains additional functionality.\n",
      "  latex_table = df_base.to_latex(index=False)\n"
     ]
    }
   ],
   "source": [
    "#Query retorna reviews\n",
    "base_results_reviews = requests.get(BASE_QUERY_URL).json()['response']['docs']\n",
    "base_gameids = []\n",
    "base_results = []\n",
    "\n",
    "for index, doc in enumerate(base_results_reviews):\n",
    "    if len(base_gameids) == 10:\n",
    "        break\n",
    "    \n",
    "    if doc['id'].split('/')[0] not in base_gameids:\n",
    "        #print(\"\\nGetting game with id: \", doc['id'].split('/')[0])\n",
    "        base_gameids.append(doc['id'].split('/')[0])\n",
    "        query_url = \"http://localhost:8983/solr/games/select?fl=*%2C%5Bchild%5D&indent=true&q.op=OR&q=id%3A(\" + doc['id'].split('/')[0] + ')&useParams=&wt=json'\n",
    "        result = requests.get(query_url).json()['response']['docs']\n",
    "        #print(result)\n",
    "        base_results.append(result[0])\n",
    "\n",
    "base_ranked_doc = [doc['title'] for index, doc in enumerate(base_results)]\n",
    "\n",
    "df_base = pd.DataFrame(base_ranked_doc, columns=['BASE'], index=None)\n",
    "\n",
    "print(df_base)\n",
    "\n",
    "latex_table = df_base.to_latex(index=False)\n",
    "\n",
    "with open(QUERY_PATH+'_baseRank.txt', 'w') as tf:\n",
    "    tf.write(latex_table)\n"
   ]
  },
  {
   "cell_type": "code",
   "execution_count": 13,
   "metadata": {},
   "outputs": [
    {
     "name": "stdout",
     "output_type": "stream",
     "text": [
      "               BOOSTED\n",
      "0      NBA Playgrounds\n",
      "1  ESPN NBA Basketball\n",
      "2             NBA 2K16\n",
      "3          NBA Live 19\n",
      "4          NBA Live 15\n",
      "5          NBA Live 16\n",
      "6             Disc Jam\n",
      "7                WRC 7\n",
      "8        Rocket League\n",
      "9    Team Sonic Racing\n"
     ]
    },
    {
     "name": "stderr",
     "output_type": "stream",
     "text": [
      "C:\\Users\\luisk\\AppData\\Local\\Temp\\ipykernel_23864\\335745399.py:24: FutureWarning: In future versions `DataFrame.to_latex` is expected to utilise the base implementation of `Styler.to_latex` for formatting and rendering. The arguments signature may therefore change. It is recommended instead to use `DataFrame.style.to_latex` which also contains additional functionality.\n",
      "  latex_table = df_boosted.to_latex(index=False)\n"
     ]
    }
   ],
   "source": [
    "#Query retorna reviews\n",
    "boosted_results_reviews = requests.get(BOOSTED_QUERY_URL).json()['response']['docs']\n",
    "boosted_gameids = []\n",
    "boosted_results = []\n",
    "\n",
    "for index, doc in enumerate(boosted_results_reviews):\n",
    "    if len(boosted_gameids) == 10:\n",
    "        break\n",
    "    \n",
    "    if doc['id'].split('/')[0] not in boosted_gameids:\n",
    "        #print(\"\\nGetting game with id: \", doc['id'].split('/')[0])\n",
    "        boosted_gameids.append(doc['id'].split('/')[0])\n",
    "        query_url = \"http://localhost:8983/solr/games/select?fl=*%2C%5Bchild%5D&indent=true&q.op=OR&q=id%3A(\" + doc['id'].split('/')[0] + ')&useParams=&wt=json'\n",
    "        result = requests.get(query_url).json()['response']['docs']\n",
    "        #print(result)\n",
    "        boosted_results.append(result[0])\n",
    "\n",
    "boosted_ranked_doc = [doc['title'] for index, doc in enumerate(boosted_results)]\n",
    "\n",
    "df_boosted = pd.DataFrame(boosted_ranked_doc, columns=['BOOSTED'], index=None)\n",
    "\n",
    "print(df_boosted)\n",
    "\n",
    "latex_table = df_boosted.to_latex(index=False)\n",
    "\n",
    "with open(QUERY_PATH+'_boostedRank.txt', 'w') as tf:\n",
    "    tf.write(latex_table)"
   ]
  },
  {
   "cell_type": "markdown",
   "metadata": {},
   "source": [
    "#### Depois construir o ficheiro com todos os documentos relevantes"
   ]
  },
  {
   "cell_type": "code",
   "execution_count": null,
   "metadata": {},
   "outputs": [],
   "source": [
    "relevant = list(map(lambda el: el.strip(), open(QUERY_PATH+'_relevant.txt').readlines()))\n",
    "\n",
    "print(relevant)"
   ]
  },
  {
   "cell_type": "markdown",
   "metadata": {},
   "source": [
    "#### Definição das métricas"
   ]
  },
  {
   "cell_type": "code",
   "execution_count": null,
   "metadata": {},
   "outputs": [],
   "source": [
    "metrics = {}\n",
    "metric = lambda f: metrics.setdefault(f.__name__, f)\n",
    "\n",
    "@metric\n",
    "def p10(results, relevant, n=10):\n",
    "    \"\"\"Precision at N\"\"\"\n",
    "    return len([doc for doc in results[:n] if doc['id'] in relevant])/n\n",
    "\n",
    "@metric\n",
    "def ap(results, relevant):\n",
    "    \"\"\"Average Precision\"\"\"\n",
    "    precision_values = []\n",
    "    relevant_count = 0\n",
    "\n",
    "    for idx, doc in enumerate(results):\n",
    "        if doc['id'] in relevant:\n",
    "            relevant_count += 1\n",
    "            precision_at_k = relevant_count / (idx + 1)\n",
    "            precision_values.append(precision_at_k)\n",
    "\n",
    "    if not precision_values:\n",
    "        return 0.0\n",
    "\n",
    "    return sum(precision_values)/len(precision_values)\n",
    "\n",
    "def calculate_metric(key, results, relevant):\n",
    "    return metrics[key](results, relevant)\n",
    "\n",
    "evaluation_metrics = {\n",
    "    'ap': 'Average Precision',\n",
    "    'p10': 'Precision at 10 (P@10)'\n",
    "}"
   ]
  },
  {
   "cell_type": "markdown",
   "metadata": {},
   "source": [
    "#### Função que cálcula a curva de Precision-Recall"
   ]
  },
  {
   "cell_type": "code",
   "execution_count": null,
   "metadata": {},
   "outputs": [],
   "source": [
    "def evaluate(results, queryType):\n",
    "    precision_values = [\n",
    "        len([\n",
    "            doc \n",
    "            for doc in results[:idx]\n",
    "            if doc['id'] in relevant\n",
    "        ]) / idx \n",
    "        for idx, _ in enumerate(results, start=1)\n",
    "    ]\n",
    "    \n",
    "    recall_values = [\n",
    "        len([\n",
    "            doc for doc in results[:idx]\n",
    "            if doc['id'] in relevant\n",
    "        ]) / len(relevant)\n",
    "        for idx, _ in enumerate(results, start=1)\n",
    "    ]\n",
    "    \n",
    "    precision_recall_match = {k: v for k,v in zip(recall_values, precision_values)}\n",
    "    \n",
    "    # Extend recall_values to include traditional steps for a better curve (0.1, 0.2 ...)\n",
    "    recall_values.extend([step for step in np.arange(0.1, 1.1, 0.1) if step not in recall_values])\n",
    "    recall_values = sorted(set(recall_values))\n",
    "\n",
    "    # Extend matching dict to include these new intermediate steps\n",
    "    for idx, step in enumerate(recall_values):\n",
    "        if step not in precision_recall_match:\n",
    "            if recall_values[idx-1] in precision_recall_match:\n",
    "                precision_recall_match[step] = precision_recall_match[recall_values[idx-1]]\n",
    "            else:\n",
    "                precision_recall_match[step] = precision_recall_match[recall_values[idx+1]]\n",
    "\n",
    "    disp = PrecisionRecallDisplay([precision_recall_match.get(r) for r in recall_values], recall_values)\n",
    "    disp.plot()\n",
    "    plt.savefig(QUERY_PATH+'_'+queryType+'_pr.pdf')\n",
    "    "
   ]
  },
  {
   "cell_type": "markdown",
   "metadata": {},
   "source": [
    "#### Cálculo da curva para a base query"
   ]
  },
  {
   "cell_type": "code",
   "execution_count": null,
   "metadata": {},
   "outputs": [],
   "source": [
    "evaluate(base_results, 'base')"
   ]
  },
  {
   "cell_type": "markdown",
   "metadata": {},
   "source": [
    "#### Cálculo da curva para a boosted query"
   ]
  },
  {
   "cell_type": "code",
   "execution_count": null,
   "metadata": {},
   "outputs": [],
   "source": [
    "evaluate(boosted_results, 'boosted')"
   ]
  },
  {
   "cell_type": "code",
   "execution_count": null,
   "metadata": {},
   "outputs": [],
   "source": [
    "base_document_ids = [doc['id'] for doc in base_results]\n",
    "base_relevance_column = ['Y' if doc_id in relevant else 'N' for doc_id in base_document_ids]\n",
    "\n",
    "boosted_document_ids = [doc['id'] for doc in boosted_results]\n",
    "boosted_relevance_column = ['Y' if doc_id in relevant else 'N' for doc_id in boosted_document_ids]\n",
    "\n",
    "ranked_documents = list(zip(range(1, len(base_results) + 1), base_document_ids, base_relevance_column, boosted_document_ids, boosted_relevance_column))\n",
    "\n",
    "df1 = pd.DataFrame(ranked_documents, columns=[('Rank', ''), ('Base System', 'Game'), ('Base System', 'Relevance'), ('Boosted System', 'Game'), ('Boosted System', 'Relevance')])\n",
    "\n",
    "# Convert the DataFrame to a LaTeX table without an index\n",
    "latex_table = df1.to_latex(index=False)\n",
    "\n",
    "# Write the LaTeX table to a file\n",
    "with open(QUERY_PATH+'_ranked_documents.tex', 'w') as tf:\n",
    "    tf.write(latex_table)\n",
    "\n",
    "# Print the LaTeX table\n",
    "print(latex_table)"
   ]
  }
 ],
 "metadata": {
  "kernelspec": {
   "display_name": "Python 3",
   "language": "python",
   "name": "python3"
  },
  "language_info": {
   "codemirror_mode": {
    "name": "ipython",
    "version": 3
   },
   "file_extension": ".py",
   "mimetype": "text/x-python",
   "name": "python",
   "nbconvert_exporter": "python",
   "pygments_lexer": "ipython3",
   "version": "3.10.9"
  }
 },
 "nbformat": 4,
 "nbformat_minor": 2
}
