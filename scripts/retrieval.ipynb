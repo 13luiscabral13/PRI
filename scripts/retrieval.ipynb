{
 "cells": [
  {
   "cell_type": "code",
   "execution_count": 111,
   "metadata": {},
   "outputs": [],
   "source": [
    "import matplotlib.pyplot as plt\n",
    "from sklearn.metrics import PrecisionRecallDisplay\n",
    "import numpy as np\n",
    "import json\n",
    "import requests\n",
    "import pandas as pd"
   ]
  },
  {
   "cell_type": "code",
   "execution_count": 112,
   "metadata": {},
   "outputs": [],
   "source": [
    "QUERY_NUMBER = \"q5\"\n",
    "QUERY_PATH = '../queries/' + QUERY_NUMBER + '/' + QUERY_NUMBER\n",
    "\n",
    "BASE_QUERY_URL = \"http://localhost:8983/solr/games/select?fl=*%2C%5Bchild%5D&fq=%7B!child%20of%3D%22*%3A*%20-_nest_path_%3A*%22%7Dsummary%3A(unique%20OR%20characters%20OR%20%22unique%20story%22)%20OR%20wikipedia%3A(unique%20OR%20characters%20OR%20%22unique%20story%22)&indent=true&q.op=OR&q=review%3A(unique%20OR%20characters%20OR%20%22unique%20story%22)&rows=1000&useParams=&wt=json\"\n",
    "BOOSTED_QUERY_URL = \"http://localhost:8983/solr/games/select?bq=%7B!child%20of%3D%22*%3A*%20-_nest_path_%3A*%22%7Dsummary%3A(unique%20OR%20characters%20OR%20%22unique%20story%22)%20OR%20wikipedia%3A(unique%20OR%20characters%20OR%20%22unique%20story%22)&defType=edismax&fq=%7B!child%20of%3D%22*%3A*%20-_nest_path_%3A*%22%7Dtitle%3A*&indent=true&pf=review%5E2&ps=3&q.op=AND&q=unique%20OR%20characters%20OR%20%22unique%20story%22&qf=review%5E2&rows=1000&useParams=&wt=json\""
   ]
  },
  {
   "cell_type": "markdown",
   "metadata": {},
   "source": [
    "#### Executa a base query e guarda os documentos obtidos no ficheiro baseRank.txt"
   ]
  },
  {
   "cell_type": "code",
   "execution_count": 113,
   "metadata": {},
   "outputs": [
    {
     "name": "stdout",
     "output_type": "stream",
     "text": [
      "                                    BASE\n",
      "0                           Mad Rat Dead\n",
      "1                 The Punisher: No Mercy\n",
      "2                        The Incredibles\n",
      "3                           Rocket Arena\n",
      "4                   Disney Magical World\n",
      "5                    XCOM: Chimera Squad\n",
      "6                         Chrono Trigger\n",
      "7               Final Fantasy VI Advance\n",
      "8  Tales of Vesperia: Definitive Edition\n",
      "9          Ori and the Will of the Wisps\n"
     ]
    }
   ],
   "source": [
    "#Query retorna reviews\n",
    "base_results_reviews = requests.get(BASE_QUERY_URL).json()['response']['docs']\n",
    "base_gameids = []\n",
    "base_results = []\n",
    "\n",
    "for index, doc in enumerate(base_results_reviews):\n",
    "    if len(base_gameids) == 10:\n",
    "        break\n",
    "    \n",
    "    if doc['id'].split('/')[0] not in base_gameids:\n",
    "        #print(\"\\nGetting game with id: \", doc['id'].split('/')[0])\n",
    "        base_gameids.append(doc['id'].split('/')[0])\n",
    "        query_url = \"http://localhost:8983/solr/games/select?fl=*%2C%5Bchild%5D&indent=true&q.op=OR&q=id%3A(\" + doc['id'].split('/')[0] + ')&useParams=&wt=json'\n",
    "        result = requests.get(query_url).json()['response']['docs']\n",
    "        #print(result)\n",
    "        base_results.append(result[0])\n",
    "\n",
    "base_ranked_doc = [doc['title'] for index, doc in enumerate(base_results)]\n",
    "\n",
    "df_base = pd.DataFrame(base_ranked_doc, columns=['BASE'], index=None)\n",
    "\n",
    "print(df_base)\n",
    "\n",
    "latex_table = df_base.to_latex(index=False)\n",
    "\n",
    "with open(QUERY_PATH+'_baseRank.txt', 'w') as tf:\n",
    "    tf.write(latex_table)\n"
   ]
  },
  {
   "cell_type": "code",
   "execution_count": 114,
   "metadata": {},
   "outputs": [
    {
     "name": "stdout",
     "output_type": "stream",
     "text": [
      "                                      BOOSTED\n",
      "0                        Disney Magical World\n",
      "1                         XCOM: Chimera Squad\n",
      "2                                Rocket Arena\n",
      "3  Conception II: Children of the Seven Stars\n",
      "4                  Torment: Tides of Numenera\n",
      "5               Ori and the Will of the Wisps\n",
      "6                                Mad Rat Dead\n",
      "7                      The Punisher: No Mercy\n",
      "8              Chicken Police - Paint it RED!\n",
      "9                             The Incredibles\n"
     ]
    }
   ],
   "source": [
    "#Query retorna reviews\n",
    "boosted_results_reviews = requests.get(BOOSTED_QUERY_URL).json()['response']['docs']\n",
    "boosted_gameids = []\n",
    "boosted_results = []\n",
    "\n",
    "for index, doc in enumerate(boosted_results_reviews):\n",
    "    if len(boosted_gameids) == 10:\n",
    "        break\n",
    "    \n",
    "    if doc['id'].split('/')[0] not in boosted_gameids:\n",
    "        #print(\"\\nGetting game with id: \", doc['id'].split('/')[0])\n",
    "        boosted_gameids.append(doc['id'].split('/')[0])\n",
    "        query_url = \"http://localhost:8983/solr/games/select?fl=*%2C%5Bchild%5D&indent=true&q.op=OR&q=id%3A(\" + doc['id'].split('/')[0] + ')&useParams=&wt=json'\n",
    "        result = requests.get(query_url).json()['response']['docs']\n",
    "        #print(result)\n",
    "        boosted_results.append(result[0])\n",
    "\n",
    "boosted_ranked_doc = [doc['title'] for index, doc in enumerate(boosted_results)]\n",
    "\n",
    "df_boosted = pd.DataFrame(boosted_ranked_doc, columns=['BOOSTED'], index=None)\n",
    "\n",
    "print(df_boosted)\n",
    "\n",
    "latex_table = df_boosted.to_latex(index=False)\n",
    "\n",
    "with open(QUERY_PATH+'_boostedRank.txt', 'w') as tf:\n",
    "    tf.write(latex_table)"
   ]
  },
  {
   "cell_type": "markdown",
   "metadata": {},
   "source": [
    "#### Depois construir o ficheiro com todos os documentos relevantes"
   ]
  },
  {
   "cell_type": "code",
   "execution_count": 115,
   "metadata": {},
   "outputs": [
    {
     "name": "stdout",
     "output_type": "stream",
     "text": [
      "['Disney Magical World', 'Mad Rat Dead', 'XCOM: Chimera Squad', 'Chrono Trigger', 'Final Fantasy VI Advance', 'Ori and the Will of the Wisps']\n"
     ]
    }
   ],
   "source": [
    "relevant = list(map(lambda el: el.strip(), open(QUERY_PATH+'_relevant.txt').readlines()))\n",
    "\n",
    "print(relevant)"
   ]
  },
  {
   "cell_type": "markdown",
   "metadata": {},
   "source": [
    "#### Definição das métricas"
   ]
  },
  {
   "cell_type": "code",
   "execution_count": 116,
   "metadata": {},
   "outputs": [
    {
     "name": "stdout",
     "output_type": "stream",
     "text": [
      "Average Precision: 0.6160714285714286   0.7678571428571428\n",
      "Precision at 10 (P@10): 0.6   0.4\n"
     ]
    }
   ],
   "source": [
    "metrics = {}\n",
    "metric = lambda f: metrics.setdefault(f.__name__, f)\n",
    "\n",
    "@metric\n",
    "def p10(results, relevant, n=10):\n",
    "    \"\"\"Precision at N\"\"\"\n",
    "    return len([doc for doc in results[:n] if doc['title'] in relevant])/n\n",
    "\n",
    "@metric\n",
    "def ap(results, relevant):\n",
    "    \"\"\"Average Precision\"\"\"\n",
    "    precision_values = []\n",
    "    relevant_count = 0\n",
    "\n",
    "    for idx, doc in enumerate(results):\n",
    "        if doc['title'] in relevant:\n",
    "            relevant_count += 1\n",
    "            precision_at_k = relevant_count / (idx + 1)\n",
    "            precision_values.append(precision_at_k)\n",
    "\n",
    "    if not precision_values:\n",
    "        return 0.0\n",
    "\n",
    "    return sum(precision_values)/len(precision_values)\n",
    "\n",
    "def calculate_metric(key, results, relevant):\n",
    "    return metrics[key](results, relevant)\n",
    "\n",
    "evaluation_metrics = {\n",
    "    'ap': 'Average Precision',\n",
    "    'p10': 'Precision at 10 (P@10)'\n",
    "}\n",
    "\n",
    "# Calcular e imprimir as métricas\n",
    "for metric_key, metric_name in evaluation_metrics.items():\n",
    "    metric_value_base = calculate_metric(metric_key, base_results, relevant)\n",
    "    metric_value_boosted = calculate_metric(metric_key, boosted_results, relevant)\n",
    "    print(f'{metric_name}: {metric_value_base}   {metric_value_boosted}')\n",
    "    \n",
    "# Calcular métricas\n",
    "metrics_results_base = [calculate_metric(metric_key, base_results, relevant) for metric_key in evaluation_metrics.keys()]\n",
    "metrics_results_boosted = [calculate_metric(metric_key, boosted_results, relevant) for metric_key in evaluation_metrics.keys()]\n",
    "\n",
    "# Criar DataFrame do Pandas para os resultados das métricas\n",
    "metrics_df = pd.DataFrame(list(zip(evaluation_metrics.values(), metrics_results_base, metrics_results_boosted)), columns=['Metrics', 'Base System', 'Boosted System'])\n",
    "\n",
    "# Converter o DataFrame para uma tabela LaTeX sem um índice\n",
    "latex_table_metrics = metrics_df.to_latex(index=False)\n",
    "\n",
    "# Escrever a tabela LaTeX em um arquivo\n",
    "with open(QUERY_PATH + \"_metrics.tex\", 'w') as tf:\n",
    "    tf.write(latex_table_metrics)"
   ]
  },
  {
   "cell_type": "markdown",
   "metadata": {},
   "source": [
    "#### Função que cálcula a curva de Precision-Recall"
   ]
  },
  {
   "cell_type": "code",
   "execution_count": 117,
   "metadata": {},
   "outputs": [
    {
     "data": {
      "image/png": "[encoded data removed]",
      "text/plain": [
       "<Figure size 800x600 with 1 Axes>"
      ]
     },
     "metadata": {},
     "output_type": "display_data"
    }
   ],
   "source": [
    "def evaluate(results):\n",
    "    precision_values = [\n",
    "        len([\n",
    "            doc \n",
    "            for doc in results[:idx]\n",
    "            if doc['title'] in relevant\n",
    "        ]) / idx \n",
    "        for idx, _ in enumerate(results, start=1)\n",
    "    ]\n",
    "    \n",
    "    recall_values = [\n",
    "        len([\n",
    "            doc for doc in results[:idx]\n",
    "            if doc['title'] in relevant\n",
    "        ]) / len(relevant)\n",
    "        for idx, _ in enumerate(results, start=1)\n",
    "    ]\n",
    "    \n",
    "    precision_recall_match = {k: v for k,v in zip(recall_values, precision_values)}\n",
    "    \n",
    "    # Extend recall_values to include traditional steps for a better curve (0.1, 0.2 ...)\n",
    "    recall_values.extend([step for step in np.arange(0.1, 1.1, 0.1) if step not in recall_values])\n",
    "    recall_values = sorted(set(recall_values))\n",
    "\n",
    "    # Extend matching dict to include these new intermediate steps\n",
    "    for idx, step in enumerate(recall_values):\n",
    "        if step not in precision_recall_match:\n",
    "            if recall_values[idx-1] in precision_recall_match:\n",
    "                precision_recall_match[step] = precision_recall_match[recall_values[idx-1]]\n",
    "            else:\n",
    "                precision_recall_match[step] = precision_recall_match[recall_values[idx+1]]\n",
    "                \n",
    "    return precision_recall_match, recall_values\n",
    "\n",
    "pr_match_base, recall_values_base = evaluate(base_results)\n",
    "pr_match_boosted, recall_values_boosted = evaluate(boosted_results)\n",
    "\n",
    "# Plotar um único gráfico para ambos os sistemas\n",
    "plt.figure(figsize=(8, 6))\n",
    "plt.plot(recall_values_base, [pr_match_base.get(r) for r in recall_values_base], label='Base System')\n",
    "plt.plot(recall_values_boosted, [pr_match_boosted.get(r) for r in recall_values_boosted], label='Boosted System')\n",
    "\n",
    "plt.xlabel('Recall')\n",
    "plt.ylabel('Precision')\n",
    "plt.title('Precision-Recall Curve')\n",
    "plt.legend()\n",
    "plt.grid(True)\n",
    "plt.savefig(QUERY_PATH + '_combined_pr.pdf')\n",
    "plt.show()\n",
    "    "
   ]
  },
  {
   "cell_type": "code",
   "execution_count": 118,
   "metadata": {},
   "outputs": [
    {
     "name": "stdout",
     "output_type": "stream",
     "text": [
      "\\begin{tabular}{rllll}\n",
      "\\toprule\n",
      "Rank & Base System & Relevance & Boosted System & Relevance \\\\\n",
      "\\midrule\n",
      "1 & Mad Rat Dead & Y & Disney Magical World & Y \\\\\n",
      "2 & The Punisher: No Mercy & N & XCOM: Chimera Squad & Y \\\\\n",
      "3 & The Incredibles & N & Rocket Arena & N \\\\\n",
      "4 & Rocket Arena & N & Conception II: Children of the Seven Stars & N \\\\\n",
      "5 & Disney Magical World & Y & Torment: Tides of Numenera & N \\\\\n",
      "6 & XCOM: Chimera Squad & Y & Ori and the Will of the Wisps & Y \\\\\n",
      "7 & Chrono Trigger & Y & Mad Rat Dead & Y \\\\\n",
      "8 & Final Fantasy VI Advance & Y & The Punisher: No Mercy & N \\\\\n",
      "9 & Tales of Vesperia: Definitive Edition & N & Chicken Police - Paint it RED! & N \\\\\n",
      "10 & Ori and the Will of the Wisps & Y & The Incredibles & N \\\\\n",
      "\\bottomrule\n",
      "\\end{tabular}\n",
      "\n"
     ]
    }
   ],
   "source": [
    "base_document_ids = [doc['title'] for doc in base_results]\n",
    "base_relevance_column = ['Y' if doc_id in relevant else 'N' for doc_id in base_document_ids]\n",
    "\n",
    "boosted_document_ids = [doc['title'] for doc in boosted_results]\n",
    "boosted_relevance_column = ['Y' if doc_id in relevant else 'N' for doc_id in boosted_document_ids]\n",
    "\n",
    "ranked_documents = list(zip(range(1, len(base_results) + 1), base_document_ids, base_relevance_column, boosted_document_ids, boosted_relevance_column))\n",
    "\n",
    "df1 = pd.DataFrame(ranked_documents, columns=['Rank', 'Base System', 'Relevance', 'Boosted System', 'Relevance'])\n",
    "\n",
    "# Convert the DataFrame to a LaTeX table without an index\n",
    "latex_table = df1.to_latex(index=False)\n",
    "\n",
    "# Write the LaTeX table to a file\n",
    "with open(QUERY_PATH+'_ranked_documents.tex', 'w') as tf:\n",
    "    tf.write(latex_table)\n",
    "\n",
    "# Print the LaTeX table\n",
    "print(latex_table)"
   ]
  }
 ],
 "metadata": {
  "kernelspec": {
   "display_name": "Python 3",
   "language": "python",
   "name": "python3"
  },
  "language_info": {
   "codemirror_mode": {
    "name": "ipython",
    "version": 3
   },
   "file_extension": ".py",
   "mimetype": "text/x-python",
   "name": "python",
   "nbconvert_exporter": "python",
   "pygments_lexer": "ipython3",
   "version": "3.10.9"
  }
 },
 "nbformat": 4,
 "nbformat_minor": 2
}
